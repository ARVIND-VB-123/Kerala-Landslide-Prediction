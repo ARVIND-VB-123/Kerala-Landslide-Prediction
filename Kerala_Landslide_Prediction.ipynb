{
  "cells": [
    {
      "cell_type": "code",
      "execution_count": null,
      "metadata": {
        "id": "aaBb7iodV18e"
      },
      "outputs": [],
      "source": [
        "import pandas as pd\n",
        "import numpy as np\n",
        "import matplotlib.pyplot as plt\n",
        "from sklearn.model_selection import train_test_split\n",
        "from sklearn.preprocessing import StandardScaler\n",
        "from sklearn.linear_model import LinearRegression\n",
        "from sklearn.metrics import mean_squared_error, r2_score\n"
      ]
    },
    {
      "cell_type": "code",
      "execution_count": null,
      "metadata": {
        "colab": {
          "base_uri": "https://localhost:8080/",
          "height": 853
        },
        "id": "7N1EBFIAOj2j",
        "outputId": "92c6d3dd-00a9-4a30-9d76-0b92d6d36c78"
      },
      "outputs": [
        {
          "output_type": "display_data",
          "data": {
            "text/plain": [
              "<IPython.core.display.HTML object>"
            ],
            "text/html": [
              "\n",
              "     <input type=\"file\" id=\"files-36d09f46-dcfd-4815-adef-47bd8162781d\" name=\"files[]\" multiple disabled\n",
              "        style=\"border:none\" />\n",
              "     <output id=\"result-36d09f46-dcfd-4815-adef-47bd8162781d\">\n",
              "      Upload widget is only available when the cell has been executed in the\n",
              "      current browser session. Please rerun this cell to enable.\n",
              "      </output>\n",
              "      <script>// Copyright 2017 Google LLC\n",
              "//\n",
              "// Licensed under the Apache License, Version 2.0 (the \"License\");\n",
              "// you may not use this file except in compliance with the License.\n",
              "// You may obtain a copy of the License at\n",
              "//\n",
              "//      http://www.apache.org/licenses/LICENSE-2.0\n",
              "//\n",
              "// Unless required by applicable law or agreed to in writing, software\n",
              "// distributed under the License is distributed on an \"AS IS\" BASIS,\n",
              "// WITHOUT WARRANTIES OR CONDITIONS OF ANY KIND, either express or implied.\n",
              "// See the License for the specific language governing permissions and\n",
              "// limitations under the License.\n",
              "\n",
              "/**\n",
              " * @fileoverview Helpers for google.colab Python module.\n",
              " */\n",
              "(function(scope) {\n",
              "function span(text, styleAttributes = {}) {\n",
              "  const element = document.createElement('span');\n",
              "  element.textContent = text;\n",
              "  for (const key of Object.keys(styleAttributes)) {\n",
              "    element.style[key] = styleAttributes[key];\n",
              "  }\n",
              "  return element;\n",
              "}\n",
              "\n",
              "// Max number of bytes which will be uploaded at a time.\n",
              "const MAX_PAYLOAD_SIZE = 100 * 1024;\n",
              "\n",
              "function _uploadFiles(inputId, outputId) {\n",
              "  const steps = uploadFilesStep(inputId, outputId);\n",
              "  const outputElement = document.getElementById(outputId);\n",
              "  // Cache steps on the outputElement to make it available for the next call\n",
              "  // to uploadFilesContinue from Python.\n",
              "  outputElement.steps = steps;\n",
              "\n",
              "  return _uploadFilesContinue(outputId);\n",
              "}\n",
              "\n",
              "// This is roughly an async generator (not supported in the browser yet),\n",
              "// where there are multiple asynchronous steps and the Python side is going\n",
              "// to poll for completion of each step.\n",
              "// This uses a Promise to block the python side on completion of each step,\n",
              "// then passes the result of the previous step as the input to the next step.\n",
              "function _uploadFilesContinue(outputId) {\n",
              "  const outputElement = document.getElementById(outputId);\n",
              "  const steps = outputElement.steps;\n",
              "\n",
              "  const next = steps.next(outputElement.lastPromiseValue);\n",
              "  return Promise.resolve(next.value.promise).then((value) => {\n",
              "    // Cache the last promise value to make it available to the next\n",
              "    // step of the generator.\n",
              "    outputElement.lastPromiseValue = value;\n",
              "    return next.value.response;\n",
              "  });\n",
              "}\n",
              "\n",
              "/**\n",
              " * Generator function which is called between each async step of the upload\n",
              " * process.\n",
              " * @param {string} inputId Element ID of the input file picker element.\n",
              " * @param {string} outputId Element ID of the output display.\n",
              " * @return {!Iterable<!Object>} Iterable of next steps.\n",
              " */\n",
              "function* uploadFilesStep(inputId, outputId) {\n",
              "  const inputElement = document.getElementById(inputId);\n",
              "  inputElement.disabled = false;\n",
              "\n",
              "  const outputElement = document.getElementById(outputId);\n",
              "  outputElement.innerHTML = '';\n",
              "\n",
              "  const pickedPromise = new Promise((resolve) => {\n",
              "    inputElement.addEventListener('change', (e) => {\n",
              "      resolve(e.target.files);\n",
              "    });\n",
              "  });\n",
              "\n",
              "  const cancel = document.createElement('button');\n",
              "  inputElement.parentElement.appendChild(cancel);\n",
              "  cancel.textContent = 'Cancel upload';\n",
              "  const cancelPromise = new Promise((resolve) => {\n",
              "    cancel.onclick = () => {\n",
              "      resolve(null);\n",
              "    };\n",
              "  });\n",
              "\n",
              "  // Wait for the user to pick the files.\n",
              "  const files = yield {\n",
              "    promise: Promise.race([pickedPromise, cancelPromise]),\n",
              "    response: {\n",
              "      action: 'starting',\n",
              "    }\n",
              "  };\n",
              "\n",
              "  cancel.remove();\n",
              "\n",
              "  // Disable the input element since further picks are not allowed.\n",
              "  inputElement.disabled = true;\n",
              "\n",
              "  if (!files) {\n",
              "    return {\n",
              "      response: {\n",
              "        action: 'complete',\n",
              "      }\n",
              "    };\n",
              "  }\n",
              "\n",
              "  for (const file of files) {\n",
              "    const li = document.createElement('li');\n",
              "    li.append(span(file.name, {fontWeight: 'bold'}));\n",
              "    li.append(span(\n",
              "        `(${file.type || 'n/a'}) - ${file.size} bytes, ` +\n",
              "        `last modified: ${\n",
              "            file.lastModifiedDate ? file.lastModifiedDate.toLocaleDateString() :\n",
              "                                    'n/a'} - `));\n",
              "    const percent = span('0% done');\n",
              "    li.appendChild(percent);\n",
              "\n",
              "    outputElement.appendChild(li);\n",
              "\n",
              "    const fileDataPromise = new Promise((resolve) => {\n",
              "      const reader = new FileReader();\n",
              "      reader.onload = (e) => {\n",
              "        resolve(e.target.result);\n",
              "      };\n",
              "      reader.readAsArrayBuffer(file);\n",
              "    });\n",
              "    // Wait for the data to be ready.\n",
              "    let fileData = yield {\n",
              "      promise: fileDataPromise,\n",
              "      response: {\n",
              "        action: 'continue',\n",
              "      }\n",
              "    };\n",
              "\n",
              "    // Use a chunked sending to avoid message size limits. See b/62115660.\n",
              "    let position = 0;\n",
              "    do {\n",
              "      const length = Math.min(fileData.byteLength - position, MAX_PAYLOAD_SIZE);\n",
              "      const chunk = new Uint8Array(fileData, position, length);\n",
              "      position += length;\n",
              "\n",
              "      const base64 = btoa(String.fromCharCode.apply(null, chunk));\n",
              "      yield {\n",
              "        response: {\n",
              "          action: 'append',\n",
              "          file: file.name,\n",
              "          data: base64,\n",
              "        },\n",
              "      };\n",
              "\n",
              "      let percentDone = fileData.byteLength === 0 ?\n",
              "          100 :\n",
              "          Math.round((position / fileData.byteLength) * 100);\n",
              "      percent.textContent = `${percentDone}% done`;\n",
              "\n",
              "    } while (position < fileData.byteLength);\n",
              "  }\n",
              "\n",
              "  // All done.\n",
              "  yield {\n",
              "    response: {\n",
              "      action: 'complete',\n",
              "    }\n",
              "  };\n",
              "}\n",
              "\n",
              "scope.google = scope.google || {};\n",
              "scope.google.colab = scope.google.colab || {};\n",
              "scope.google.colab._files = {\n",
              "  _uploadFiles,\n",
              "  _uploadFilesContinue,\n",
              "};\n",
              "})(self);\n",
              "</script> "
            ]
          },
          "metadata": {}
        },
        {
          "output_type": "stream",
          "name": "stdout",
          "text": [
            "Saving kerala.csv to kerala.csv\n",
            "  SUBDIVISION  YEAR   JAN   FEB   MAR    APR    MAY     JUN     JUL    AUG  \\\n",
            "0      KERALA  1901  28.7  44.7  51.6  160.0  174.7   824.6   743.0  357.5   \n",
            "1      KERALA  1902   6.7   2.6  57.3   83.9  134.5   390.9  1205.0  315.8   \n",
            "2      KERALA  1903   3.2  18.6   3.1   83.6  249.7   558.6  1022.5  420.2   \n",
            "3      KERALA  1904  23.7   3.0  32.2   71.5  235.7  1098.2   725.5  351.8   \n",
            "4      KERALA  1905   1.2  22.3   9.4  105.9  263.3   850.2   520.5  293.6   \n",
            "\n",
            "     SEP    OCT    NOV    DEC   ANNUAL RAINFALL FLOODS  \n",
            "0  197.7  266.9  350.8   48.4            3248.6    YES  \n",
            "1  491.6  358.4  158.3  121.5            3326.6    YES  \n",
            "2  341.8  354.1  157.0   59.0            3271.2    YES  \n",
            "3  222.7  328.1   33.9    3.3            3129.7    YES  \n",
            "4  217.2  383.5   74.4    0.2            2741.6     NO  \n",
            "              YEAR         JAN         FEB         MAR         APR  \\\n",
            "count   118.000000  118.000000  118.000000  118.000000  118.000000   \n",
            "mean   1959.500000   12.218644   15.633898   36.670339  110.330508   \n",
            "std      34.207699   15.473766   16.406290   30.063862   44.633452   \n",
            "min    1901.000000    0.000000    0.000000    0.100000   13.100000   \n",
            "25%    1930.250000    2.175000    4.700000   18.100000   74.350000   \n",
            "50%    1959.500000    5.800000    8.350000   28.400000  110.400000   \n",
            "75%    1988.750000   18.175000   21.400000   49.825000  136.450000   \n",
            "max    2018.000000   83.500000   79.000000  217.200000  238.000000   \n",
            "\n",
            "              MAY          JUN          JUL          AUG         SEP  \\\n",
            "count  118.000000   118.000000   118.000000   118.000000  118.000000   \n",
            "mean   228.644915   651.617797   698.220339   430.369492  246.207627   \n",
            "std    147.548778   186.181363   228.988966   181.980463  121.901131   \n",
            "min     53.400000   196.800000   167.500000   178.600000   41.300000   \n",
            "25%    125.050000   535.550000   533.200000   316.725000  155.425000   \n",
            "50%    184.600000   625.600000   691.650000   386.250000  223.550000   \n",
            "75%    264.875000   786.975000   832.425000   500.100000  334.500000   \n",
            "max    738.800000  1098.200000  1526.500000  1398.900000  526.700000   \n",
            "\n",
            "              OCT         NOV         DEC   ANNUAL RAINFALL  \n",
            "count  118.000000  118.000000  118.000000        118.000000  \n",
            "mean   293.207627  162.311017   40.009322       2925.405085  \n",
            "std     93.705253   83.200485   36.676330        452.169407  \n",
            "min     68.500000   31.500000    0.100000       2068.800000  \n",
            "25%    222.125000   93.025000   10.350000       2613.525000  \n",
            "50%    284.300000  152.450000   31.100000       2934.300000  \n",
            "75%    355.150000  218.325000   54.025000       3170.400000  \n",
            "max    567.900000  365.600000  202.300000       4473.000000  \n",
            "Index(['SUBDIVISION', 'YEAR', 'JAN', 'FEB', 'MAR', 'APR', 'MAY', 'JUN', 'JUL',\n",
            "       'AUG', 'SEP', 'OCT', 'NOV', 'DEC', ' ANNUAL RAINFALL', 'FLOODS'],\n",
            "      dtype='object')\n"
          ]
        }
      ],
      "source": [
        "\n",
        "# Load the dataset\n",
        "from google.colab import files\n",
        "import pandas as pd\n",
        "# Upload the file\n",
        "uploaded = files.upload()\n",
        "# Assuming 'kerala.csv' is the name of the uploaded file\n",
        "df = pd.read_csv('kerala.csv')\n",
        "\n",
        "# Display the first few rows of the dataset\n",
        "#df.head()\n",
        "\n",
        "\n",
        "# Display the first few rows of the dataset\n",
        "print(df.head())\n",
        "\n",
        "# Display summary statistics\n",
        "print(df.describe())\n",
        "\n",
        "# Display the column names\n",
        "print(df.columns)\n"
      ]
    },
    {
      "cell_type": "code",
      "execution_count": null,
      "metadata": {
        "colab": {
          "base_uri": "https://localhost:8080/"
        },
        "id": "AsvNoSOZV-fl",
        "outputId": "b6de645a-5c75-45be-a314-23f534830d67"
      },
      "outputs": [
        {
          "output_type": "stream",
          "name": "stdout",
          "text": [
            "Index(['SUBDIVISION', 'YEAR', 'JAN', 'FEB', 'MAR', 'APR', 'MAY', 'JUN', 'JUL',\n",
            "       'AUG', 'SEP', 'OCT', 'NOV', 'DEC', ' ANNUAL RAINFALL', 'FLOODS'],\n",
            "      dtype='object')\n"
          ]
        }
      ],
      "source": [
        "# Display the column names to see what is available in your dataset\n",
        "print(df.columns)\n"
      ]
    },
    {
      "cell_type": "code",
      "execution_count": null,
      "metadata": {
        "colab": {
          "base_uri": "https://localhost:8080/"
        },
        "id": "e-5o0ALhz3DF",
        "outputId": "c3d807fe-c001-4da7-8e33-e0810607652f"
      },
      "outputs": [
        {
          "output_type": "stream",
          "name": "stdout",
          "text": [
            "Index(['SUBDIVISION', 'YEAR', 'JAN', 'FEB', 'MAR', 'APR', 'MAY', 'JUN', 'JUL',\n",
            "       'AUG', 'SEP', 'OCT', 'NOV', 'DEC', 'ANNUAL RAINFALL', 'FLOODS'],\n",
            "      dtype='object')\n"
          ]
        }
      ],
      "source": [
        "# Remove leading and trailing spaces in column names\n",
        "df.columns = df.columns.str.strip()\n",
        "\n",
        "# Display the cleaned column names\n",
        "print(df.columns)\n"
      ]
    },
    {
      "cell_type": "code",
      "execution_count": null,
      "metadata": {
        "id": "DdA5K2nr0rW1"
      },
      "outputs": [],
      "source": [
        "# Select the relevant features for prediction\n",
        "X = df[['YEAR', 'ANNUAL RAINFALL']]  # Modify as needed\n",
        "y = df['FLOODS']  # Assuming this is the target variable\n"
      ]
    },
    {
      "cell_type": "code",
      "execution_count": null,
      "metadata": {
        "colab": {
          "base_uri": "https://localhost:8080/"
        },
        "id": "pwi3Bh3i0vgQ",
        "outputId": "dbf993e2-df0b-4564-b9fa-272fde5d548e"
      },
      "outputs": [
        {
          "output_type": "stream",
          "name": "stdout",
          "text": [
            "   YEAR  ANNUAL RAINFALL\n",
            "0  1901           3248.6\n",
            "1  1902           3326.6\n",
            "2  1903           3271.2\n",
            "3  1904           3129.7\n",
            "4  1905           2741.6\n",
            "0    YES\n",
            "1    YES\n",
            "2    YES\n",
            "3    YES\n",
            "4     NO\n",
            "Name: FLOODS, dtype: object\n"
          ]
        }
      ],
      "source": [
        "# Display the selected features\n",
        "print(X.head())\n",
        "print(y.head())"
      ]
    },
    {
      "cell_type": "code",
      "execution_count": null,
      "metadata": {
        "colab": {
          "base_uri": "https://localhost:8080/"
        },
        "id": "kFhgk1bB1EGS",
        "outputId": "40627cfb-a264-4a33-e506-715eae9c7a7b"
      },
      "outputs": [
        {
          "output_type": "stream",
          "name": "stdout",
          "text": [
            "0    1\n",
            "1    1\n",
            "2    1\n",
            "3    1\n",
            "4    0\n",
            "Name: FLOODS, dtype: int64\n"
          ]
        }
      ],
      "source": [
        "# Encode the 'FLOODS' column\n",
        "df['FLOODS'] = df['FLOODS'].map({'NO': 0, 'YES': 1})\n",
        "\n",
        "# Check if the encoding is correct\n",
        "print(df['FLOODS'].head())\n"
      ]
    },
    {
      "cell_type": "code",
      "execution_count": null,
      "metadata": {
        "colab": {
          "base_uri": "https://localhost:8080/"
        },
        "id": "vOFFaGRG1Lbh",
        "outputId": "818ab35a-13af-49bd-bb83-4b362967190c"
      },
      "outputs": [
        {
          "output_type": "stream",
          "name": "stdout",
          "text": [
            "Mean Squared Error: 0.08674917110080564\n",
            "R-squared: 0.6430891246138283\n"
          ]
        }
      ],
      "source": [
        "from sklearn.model_selection import train_test_split\n",
        "from sklearn.preprocessing import StandardScaler\n",
        "from sklearn.linear_model import LinearRegression\n",
        "from sklearn.metrics import mean_squared_error, r2_score\n",
        "\n",
        "# Select the relevant features\n",
        "X = df[['YEAR', 'ANNUAL RAINFALL']]\n",
        "y = df['FLOODS']\n",
        "\n",
        "# Split the data into training and testing sets\n",
        "X_train, X_test, y_train, y_test = train_test_split(X, y, test_size=0.2, random_state=42)\n",
        "\n",
        "# Feature scaling\n",
        "scaler = StandardScaler()\n",
        "X_train = scaler.fit_transform(X_train)\n",
        "X_test = scaler.transform(X_test)\n",
        "\n",
        "# Train a linear regression model\n",
        "model = LinearRegression()\n",
        "model.fit(X_train, y_train)\n",
        "\n",
        "# Predict on the test set\n",
        "y_pred = model.predict(X_test)\n",
        "\n",
        "# Evaluate the model\n",
        "mse = mean_squared_error(y_test, y_pred)\n",
        "r2 = r2_score(y_test, y_pred)\n",
        "\n",
        "print(f'Mean Squared Error: {mse}')\n",
        "print(f'R-squared: {r2}')\n"
      ]
    },
    {
      "cell_type": "code",
      "execution_count": null,
      "metadata": {
        "colab": {
          "base_uri": "https://localhost:8080/"
        },
        "id": "fAiws5Qo1bcU",
        "outputId": "bdd720d2-8075-44be-a422-3690a7d243fe"
      },
      "outputs": [
        {
          "output_type": "stream",
          "name": "stdout",
          "text": [
            "   YEAR  ANNUAL RAINFALL  Predicted_Flood_Occurrences\n",
            "0  2019             3000                     0.482277\n",
            "1  2020             3200                     0.643840\n",
            "2  2021             3100                     0.561344\n",
            "3  2022             3300                     0.722906\n",
            "4  2023             3400                     0.803116\n",
            "5  2024             3500                     0.883326\n"
          ]
        }
      ],
      "source": [
        "# Example future data (replace with actual or estimated rainfall values)\n",
        "future_years = pd.DataFrame({\n",
        "    'YEAR': [2019, 2020, 2021, 2022, 2023, 2024],\n",
        "    'ANNUAL RAINFALL': [3000, 3200, 3100, 3300, 3400, 3500]  # Example values\n",
        "})\n",
        "\n",
        "# Scale the future data\n",
        "future_years_scaled = scaler.transform(future_years[['YEAR', 'ANNUAL RAINFALL']])\n",
        "\n",
        "# Predict the flood occurrences\n",
        "future_predictions = model.predict(future_years_scaled)\n",
        "\n",
        "# Add predictions to the DataFrame\n",
        "future_years['Predicted_Flood_Occurrences'] = future_predictions\n",
        "\n",
        "# Display the predictions\n",
        "print(future_years)\n"
      ]
    },
    {
      "cell_type": "code",
      "execution_count": null,
      "metadata": {
        "colab": {
          "base_uri": "https://localhost:8080/",
          "height": 564
        },
        "id": "6ToWxobA15aG",
        "outputId": "10cac2f9-007a-4397-a1f8-735da9764377"
      },
      "outputs": [
        {
          "output_type": "display_data",
          "data": {
            "text/plain": [
              "<Figure size 1000x600 with 1 Axes>"
            ],
            "image/png": "[encoded data removed]"
          },
          "metadata": {}
        }
      ],
      "source": [
        "import matplotlib.pyplot as plt\n",
        "\n",
        "plt.figure(figsize=(10, 6))\n",
        "plt.plot(future_years['YEAR'], future_years['Predicted_Flood_Occurrences'], marker='o', linestyle='-', color='b')\n",
        "plt.title('Predicted Flood/Landslide Occurrences (2019-2024)')\n",
        "plt.xlabel('Year')\n",
        "plt.ylabel('Predicted Occurrences')\n",
        "plt.grid(True)\n",
        "plt.show()\n"
      ]
    },
    {
      "cell_type": "code",
      "execution_count": null,
      "metadata": {
        "id": "-eA6AwK62H6F"
      },
      "outputs": [],
      "source": [
        "# Save the predictions to a CSV file\n",
        "future_years.to_csv('/content/wayanad_flood_landslide_predictions_2019_2024.csv', index=False)\n"
      ]
    },
    {
      "cell_type": "code",
      "execution_count": null,
      "metadata": {
        "id": "x-77l_Sy20lQ"
      },
      "outputs": [],
      "source": [
        "# Example future data for 2025-2030 (replace with actual or estimated rainfall values)\n",
        "future_years_2025_2030 = pd.DataFrame({\n",
        "    'YEAR': [2025, 2026, 2027, 2028, 2029, 2030],\n",
        "    'ANNUAL RAINFALL': [3600, 3700, 3650, 3750, 3800, 3900]  # Example values\n",
        "})\n"
      ]
    },
    {
      "cell_type": "code",
      "execution_count": null,
      "metadata": {
        "id": "L6cFrq0N3ML6"
      },
      "outputs": [],
      "source": [
        "# Scale the future data for 2025-2030\n",
        "future_years_2025_2030_scaled = scaler.transform(future_years_2025_2030[['YEAR', 'ANNUAL RAINFALL']])\n"
      ]
    },
    {
      "cell_type": "code",
      "execution_count": null,
      "metadata": {
        "colab": {
          "base_uri": "https://localhost:8080/"
        },
        "id": "8ADZHc_q3SxT",
        "outputId": "a2cfef7b-90f7-4903-d5cc-8a589dcd5c77"
      },
      "outputs": [
        {
          "output_type": "stream",
          "name": "stdout",
          "text": [
            "   YEAR  ANNUAL RAINFALL  Predicted_Flood_Occurrences\n",
            "0  2025             3600                     0.963535\n",
            "1  2026             3700                     1.043745\n",
            "2  2027             3650                     1.001926\n",
            "3  2028             3750                     1.082135\n",
            "4  2029             3800                     1.121669\n",
            "5  2030             3900                     1.201878\n"
          ]
        }
      ],
      "source": [
        "# Predict the flood occurrences for 2025-2030\n",
        "future_predictions_2025_2030 = model.predict(future_years_2025_2030_scaled)\n",
        "\n",
        "# Add predictions to the DataFrame\n",
        "future_years_2025_2030['Predicted_Flood_Occurrences'] = future_predictions_2025_2030\n",
        "\n",
        "# Display the predictions\n",
        "print(future_years_2025_2030)\n"
      ]
    },
    {
      "cell_type": "code",
      "execution_count": null,
      "metadata": {
        "colab": {
          "base_uri": "https://localhost:8080/",
          "height": 564
        },
        "id": "sa7VOknE3WRL",
        "outputId": "be2fc4fd-a2c1-4f0c-abd4-aee4d144a755"
      },
      "outputs": [
        {
          "output_type": "display_data",
          "data": {
            "text/plain": [
              "<Figure size 1000x600 with 1 Axes>"
            ],
            "image/png": "[encoded data removed]"
          },
          "metadata": {}
        }
      ],
      "source": [
        "plt.figure(figsize=(10, 6))\n",
        "plt.plot(future_years_2025_2030['YEAR'], future_years_2025_2030['Predicted_Flood_Occurrences'], marker='o', linestyle='-', color='b')\n",
        "plt.title('Predicted Flood/Landslide Occurrences (2025-2030)')\n",
        "plt.xlabel('Year')\n",
        "plt.ylabel('Predicted Occurrences')\n",
        "plt.grid(True)\n",
        "plt.show()\n"
      ]
    },
    {
      "cell_type": "code",
      "execution_count": null,
      "metadata": {
        "id": "01FAYu_h3bbX"
      },
      "outputs": [],
      "source": [
        "# Save the predictions to a CSV file\n",
        "future_years_2025_2030.to_csv('/content/wayanad_flood_landslide_predictions_2025_2030.csv', index=False)\n"
      ]
    },
    {
      "cell_type": "markdown",
      "metadata": {
        "id": "O4ZjQQ9BOUBG"
      },
      "source": [
        "extra work"
      ]
    },
    {
      "cell_type": "code",
      "execution_count": null,
      "metadata": {
        "id": "f-EaoCtB3nEL"
      },
      "outputs": [],
      "source": [
        "# Combine data for 2019-2024 and 2025-2030\n",
        "future_years_combined = pd.DataFrame({\n",
        "    'YEAR': [2019, 2020, 2021, 2022, 2023, 2024, 2025, 2026, 2027, 2028, 2029, 2030],\n",
        "    'ANNUAL RAINFALL': [2309, 2990, 3610, 2896, 2202, 2700, 2810, 3031, 3131, 3184, 3410, 3900]  # Example values\n",
        "})\n"
      ]
    },
    {
      "cell_type": "code",
      "execution_count": null,
      "metadata": {
        "id": "1r2q-EEm32So"
      },
      "outputs": [],
      "source": [
        "# Scale the combined data for 2019-2030\n",
        "future_years_combined_scaled = scaler.transform(future_years_combined[['YEAR', 'ANNUAL RAINFALL']])\n"
      ]
    },
    {
      "cell_type": "code",
      "execution_count": null,
      "metadata": {
        "colab": {
          "base_uri": "https://localhost:8080/"
        },
        "id": "NX2Aqo0o368b",
        "outputId": "5842efdf-d771-45d0-eb53-2b5fa477da50"
      },
      "outputs": [
        {
          "output_type": "stream",
          "name": "stdout",
          "text": [
            "    YEAR  ANNUAL RAINFALL  Predicted_Flood_Occurrences\n",
            "0   2019             2309                    -0.079870\n",
            "1   2020             2990                     0.472999\n",
            "2   2021             3610                     0.976243\n",
            "3   2022             2896                     0.394241\n",
            "4   2023             2202                    -0.171490\n",
            "5   2024             2700                     0.232504\n",
            "6   2025             2810                     0.320848\n",
            "7   2026             3031                     0.499495\n",
            "8   2027             3131                     0.579705\n",
            "9   2028             3184                     0.621679\n",
            "10  2029             3410                     0.804393\n",
            "11  2030             3900                     1.201878\n"
          ]
        }
      ],
      "source": [
        "# Predict the flood/landslide occurrences for 2019-2030\n",
        "future_predictions_combined = model.predict(future_years_combined_scaled)\n",
        "\n",
        "# Add predictions to the DataFrame\n",
        "future_years_combined['Predicted_Flood_Occurrences'] = future_predictions_combined\n",
        "\n",
        "# Display the predictions\n",
        "print(future_years_combined)\n"
      ]
    },
    {
      "cell_type": "code",
      "execution_count": null,
      "metadata": {
        "colab": {
          "base_uri": "https://localhost:8080/",
          "height": 564
        },
        "id": "fVzC7agl3-fe",
        "outputId": "1be894b5-ad6c-4adf-810b-1b7b942d19a1"
      },
      "outputs": [
        {
          "output_type": "display_data",
          "data": {
            "text/plain": [
              "<Figure size 1200x600 with 1 Axes>"
            ],
            "image/png": "[encoded data removed]"
          },
          "metadata": {}
        }
      ],
      "source": [
        "plt.figure(figsize=(12, 6))\n",
        "plt.plot(future_years_combined['YEAR'], future_years_combined['Predicted_Flood_Occurrences'], marker='o', linestyle='-', color='y')\n",
        "plt.title('Predicted Flood/Landslide Occurrences (2019-2030)')\n",
        "plt.xlabel('Year')\n",
        "plt.ylabel('Predicted Occurrences')\n",
        "plt.grid(True)\n",
        "plt.show()\n"
      ]
    },
    {
      "cell_type": "code",
      "execution_count": null,
      "metadata": {
        "id": "bWRIVCHP4DK1",
        "colab": {
          "base_uri": "https://localhost:8080/",
          "height": 460
        },
        "outputId": "088971fe-2909-40df-eb7f-5355ba05cd53"
      },
      "outputs": [
        {
          "output_type": "stream",
          "name": "stderr",
          "text": [
            "<ipython-input-21-86d4a892c1da>:27: FutureWarning: Styler.applymap has been deprecated. Use Styler.map instead.\n",
            "  styled_df = df.style.applymap(color_flood_occurrences, subset=['Predicted_Flood_Occurrences'])\n"
          ]
        },
        {
          "output_type": "display_data",
          "data": {
            "text/plain": [
              "<pandas.io.formats.style.Styler at 0x7f1b32f866b0>"
            ],
            "text/html": [
              "<style type=\"text/css\">\n",
              "#T_b0779_row0_col2, #T_b0779_row1_col2, #T_b0779_row3_col2, #T_b0779_row4_col2, #T_b0779_row5_col2, #T_b0779_row6_col2, #T_b0779_row7_col2 {\n",
              "  background-color: yellow;\n",
              "}\n",
              "#T_b0779_row2_col2, #T_b0779_row11_col2 {\n",
              "  background-color: red;\n",
              "}\n",
              "#T_b0779_row8_col2, #T_b0779_row9_col2, #T_b0779_row10_col2 {\n",
              "  background-color: orange;\n",
              "}\n",
              "</style>\n",
              "<table id=\"T_b0779\" class=\"dataframe\">\n",
              "  <thead>\n",
              "    <tr>\n",
              "      <th class=\"blank level0\" >&nbsp;</th>\n",
              "      <th id=\"T_b0779_level0_col0\" class=\"col_heading level0 col0\" >YEAR</th>\n",
              "      <th id=\"T_b0779_level0_col1\" class=\"col_heading level0 col1\" >ANNUAL_RAINFALL</th>\n",
              "      <th id=\"T_b0779_level0_col2\" class=\"col_heading level0 col2\" >Predicted_Flood_Occurrences</th>\n",
              "    </tr>\n",
              "  </thead>\n",
              "  <tbody>\n",
              "    <tr>\n",
              "      <th id=\"T_b0779_level0_row0\" class=\"row_heading level0 row0\" >0</th>\n",
              "      <td id=\"T_b0779_row0_col0\" class=\"data row0 col0\" >2019</td>\n",
              "      <td id=\"T_b0779_row0_col1\" class=\"data row0 col1\" >2309</td>\n",
              "      <td id=\"T_b0779_row0_col2\" class=\"data row0 col2\" >-0.079870</td>\n",
              "    </tr>\n",
              "    <tr>\n",
              "      <th id=\"T_b0779_level0_row1\" class=\"row_heading level0 row1\" >1</th>\n",
              "      <td id=\"T_b0779_row1_col0\" class=\"data row1 col0\" >2020</td>\n",
              "      <td id=\"T_b0779_row1_col1\" class=\"data row1 col1\" >2990</td>\n",
              "      <td id=\"T_b0779_row1_col2\" class=\"data row1 col2\" >0.472999</td>\n",
              "    </tr>\n",
              "    <tr>\n",
              "      <th id=\"T_b0779_level0_row2\" class=\"row_heading level0 row2\" >2</th>\n",
              "      <td id=\"T_b0779_row2_col0\" class=\"data row2 col0\" >2021</td>\n",
              "      <td id=\"T_b0779_row2_col1\" class=\"data row2 col1\" >3610</td>\n",
              "      <td id=\"T_b0779_row2_col2\" class=\"data row2 col2\" >0.976243</td>\n",
              "    </tr>\n",
              "    <tr>\n",
              "      <th id=\"T_b0779_level0_row3\" class=\"row_heading level0 row3\" >3</th>\n",
              "      <td id=\"T_b0779_row3_col0\" class=\"data row3 col0\" >2022</td>\n",
              "      <td id=\"T_b0779_row3_col1\" class=\"data row3 col1\" >2896</td>\n",
              "      <td id=\"T_b0779_row3_col2\" class=\"data row3 col2\" >0.394241</td>\n",
              "    </tr>\n",
              "    <tr>\n",
              "      <th id=\"T_b0779_level0_row4\" class=\"row_heading level0 row4\" >4</th>\n",
              "      <td id=\"T_b0779_row4_col0\" class=\"data row4 col0\" >2023</td>\n",
              "      <td id=\"T_b0779_row4_col1\" class=\"data row4 col1\" >2202</td>\n",
              "      <td id=\"T_b0779_row4_col2\" class=\"data row4 col2\" >-0.171490</td>\n",
              "    </tr>\n",
              "    <tr>\n",
              "      <th id=\"T_b0779_level0_row5\" class=\"row_heading level0 row5\" >5</th>\n",
              "      <td id=\"T_b0779_row5_col0\" class=\"data row5 col0\" >2024</td>\n",
              "      <td id=\"T_b0779_row5_col1\" class=\"data row5 col1\" >2700</td>\n",
              "      <td id=\"T_b0779_row5_col2\" class=\"data row5 col2\" >0.232504</td>\n",
              "    </tr>\n",
              "    <tr>\n",
              "      <th id=\"T_b0779_level0_row6\" class=\"row_heading level0 row6\" >6</th>\n",
              "      <td id=\"T_b0779_row6_col0\" class=\"data row6 col0\" >2025</td>\n",
              "      <td id=\"T_b0779_row6_col1\" class=\"data row6 col1\" >2810</td>\n",
              "      <td id=\"T_b0779_row6_col2\" class=\"data row6 col2\" >0.320848</td>\n",
              "    </tr>\n",
              "    <tr>\n",
              "      <th id=\"T_b0779_level0_row7\" class=\"row_heading level0 row7\" >7</th>\n",
              "      <td id=\"T_b0779_row7_col0\" class=\"data row7 col0\" >2026</td>\n",
              "      <td id=\"T_b0779_row7_col1\" class=\"data row7 col1\" >3031</td>\n",
              "      <td id=\"T_b0779_row7_col2\" class=\"data row7 col2\" >0.499495</td>\n",
              "    </tr>\n",
              "    <tr>\n",
              "      <th id=\"T_b0779_level0_row8\" class=\"row_heading level0 row8\" >8</th>\n",
              "      <td id=\"T_b0779_row8_col0\" class=\"data row8 col0\" >2027</td>\n",
              "      <td id=\"T_b0779_row8_col1\" class=\"data row8 col1\" >3131</td>\n",
              "      <td id=\"T_b0779_row8_col2\" class=\"data row8 col2\" >0.579705</td>\n",
              "    </tr>\n",
              "    <tr>\n",
              "      <th id=\"T_b0779_level0_row9\" class=\"row_heading level0 row9\" >9</th>\n",
              "      <td id=\"T_b0779_row9_col0\" class=\"data row9 col0\" >2028</td>\n",
              "      <td id=\"T_b0779_row9_col1\" class=\"data row9 col1\" >3184</td>\n",
              "      <td id=\"T_b0779_row9_col2\" class=\"data row9 col2\" >0.621679</td>\n",
              "    </tr>\n",
              "    <tr>\n",
              "      <th id=\"T_b0779_level0_row10\" class=\"row_heading level0 row10\" >10</th>\n",
              "      <td id=\"T_b0779_row10_col0\" class=\"data row10 col0\" >2029</td>\n",
              "      <td id=\"T_b0779_row10_col1\" class=\"data row10 col1\" >3410</td>\n",
              "      <td id=\"T_b0779_row10_col2\" class=\"data row10 col2\" >0.804393</td>\n",
              "    </tr>\n",
              "    <tr>\n",
              "      <th id=\"T_b0779_level0_row11\" class=\"row_heading level0 row11\" >11</th>\n",
              "      <td id=\"T_b0779_row11_col0\" class=\"data row11 col0\" >2030</td>\n",
              "      <td id=\"T_b0779_row11_col1\" class=\"data row11 col1\" >3900</td>\n",
              "      <td id=\"T_b0779_row11_col2\" class=\"data row11 col2\" >1.201878</td>\n",
              "    </tr>\n",
              "  </tbody>\n",
              "</table>\n"
            ]
          },
          "metadata": {}
        }
      ],
      "source": [
        "import pandas as pd\n",
        "from IPython.display import display\n",
        "\n",
        "# Data\n",
        "data = {\n",
        "    'YEAR': [2019, 2020, 2021, 2022, 2023, 2024, 2025, 2026, 2027, 2028, 2029, 2030],\n",
        "    'ANNUAL_RAINFALL': [2309, 2990, 3610, 2896, 2202, 2700, 2810, 3031, 3131, 3184, 3410, 3900],\n",
        "    'Predicted_Flood_Occurrences': [-0.079870, 0.472999, 0.976243, 0.394241, -0.171490,\n",
        "                                     0.232504, 0.320848, 0.499495, 0.579705, 0.621679,\n",
        "                                     0.804393, 1.201878]\n",
        "}\n",
        "\n",
        "# Create DataFrame\n",
        "df = pd.DataFrame(data)\n",
        "\n",
        "# Define a function to apply color based on Predicted Flood Occurrences value\n",
        "def color_flood_occurrences(value):\n",
        "    if value < 0.5:\n",
        "        return 'background-color: yellow'\n",
        "    elif 0.5 <= value <= 0.9:\n",
        "        return 'background-color: orange'\n",
        "    elif value > 0.9:\n",
        "        return 'background-color: red'\n",
        "    return ''  # No color if it doesn't fit any condition\n",
        "\n",
        "# Apply the color function to the Predicted_Flood_Occurrences column\n",
        "styled_df = df.style.applymap(color_flood_occurrences, subset=['Predicted_Flood_Occurrences'])\n",
        "\n",
        "# Display the styled DataFrame\n",
        "display(styled_df)\n"
      ]
    },
    {
      "cell_type": "code",
      "execution_count": null,
      "metadata": {
        "id": "Nh2H98Qi6gU1"
      },
      "outputs": [],
      "source": []
    },
    {
      "cell_type": "code",
      "execution_count": null,
      "metadata": {
        "id": "nmaK9mii7JvM"
      },
      "outputs": [],
      "source": []
    },
    {
      "cell_type": "code",
      "execution_count": null,
      "metadata": {
        "id": "-nTOkfHY9Ebh"
      },
      "outputs": [],
      "source": []
    },
    {
      "cell_type": "code",
      "execution_count": null,
      "metadata": {
        "id": "8kSyyfwzAwD7"
      },
      "outputs": [],
      "source": []
    }
  ],
  "metadata": {
    "colab": {
      "provenance": []
    },
    "kernelspec": {
      "display_name": "Python 3",
      "name": "python3"
    },
    "language_info": {
      "name": "python"
    }
  },
  "nbformat": 4,
  "nbformat_minor": 0
}